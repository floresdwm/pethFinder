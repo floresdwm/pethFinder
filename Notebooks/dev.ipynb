{
 "cells": [
  {
   "cell_type": "code",
   "execution_count": 49,
   "metadata": {},
   "outputs": [
    {
     "name": "stdout",
     "output_type": "stream",
     "text": [
      "https://d3grcwqt8cmtlx.cloudfront.net/Screenshot_2024_05_07_08_27_08_942_com_facebook_katana_9b3686b694.jpg\n"
     ]
    }
   ],
   "source": [
    "from selenium import webdriver\n",
    "from bs4 import BeautifulSoup\n",
    "import pandas as pd\n",
    "\n",
    "def extrair_url_imagem(url):\n",
    "    # Configuração do Selenium para usar um driver do Chrome\n",
    "    options = webdriver.ChromeOptions()\n",
    "    options.add_argument('--headless')  # Para executar o Chrome em modo headless (sem interface gráfica)\n",
    "    driver = webdriver.Chrome(options=options)\n",
    "    \n",
    "    # Carregar a página\n",
    "    driver.get(url)\n",
    "    \n",
    "    # Obter o código HTML da página após a renderização completa\n",
    "    page_html = driver.page_source\n",
    "    \n",
    "    # Fechar o driver do Selenium\n",
    "    driver.quit()\n",
    "    \n",
    "    # Parsear o HTML com BeautifulSoup\n",
    "    soup = BeautifulSoup(page_html, 'html.parser')\n",
    "    \n",
    "    # Encontrar a tag img com a classe v-img__img e extrair a URL da imagem\n",
    "    img_tag = soup.find('img', class_='v-img__img')\n",
    "    if img_tag:\n",
    "        return img_tag['src']\n",
    "    else:\n",
    "        return None\n",
    "\n",
    "# URL da página do pet\n",
    "url_pet = 'https://petsrs.com.br/pet/1840'\n",
    "\n",
    "# Extrair a URL da imagem\n",
    "url_imagem = extrair_url_imagem(url_pet)\n",
    "\n",
    "print(url_imagem)\n"
   ]
  },
  {
   "cell_type": "code",
   "execution_count": null,
   "metadata": {},
   "outputs": [],
   "source": [
    "import pandas as pd\n",
    "from selenium import webdriver\n",
    "from bs4 import BeautifulSoup\n",
    "\n",
    "def extrair_detalhes_pet(url):\n",
    "    # Configuração do Selenium para usar um driver do Chrome\n",
    "    options = webdriver.ChromeOptions()\n",
    "    options.add_argument('--headless')  # Para executar o Chrome em modo headless (sem interface gráfica)\n",
    "    driver = webdriver.Chrome(options=options)\n",
    "    \n",
    "    # Carregar a página\n",
    "    driver.get(url)\n",
    "    \n",
    "    # Obter o código HTML da página após a renderização completa\n",
    "    page_html = driver.page_source\n",
    "    \n",
    "    # Fechar o driver do Selenium\n",
    "    driver.quit()\n",
    "    \n",
    "    # Parsear o HTML com BeautifulSoup\n",
    "    soup = BeautifulSoup(page_html, 'html.parser')\n",
    "    \n",
    "    # Extrair detalhes do pet\n",
    "    nome_pet = soup.find('h1', class_='text-h3').text.strip()\n",
    "    abrigo = soup.find('div', class_='v-list-item-title', text='Abrigo').find_next_sibling('div').text.strip()\n",
    "    mais_informacoes = soup.find('div', class_='v-card-title', text='Mais informações').find_next_sibling('div').text.strip()\n",
    "    status = soup.find('div', class_='v-chip__content').text.strip()\n",
    "    \n",
    "    return {'Nome do Pet': nome_pet, 'Abrigo': abrigo, 'Mais Informações': mais_informacoes, 'Status': status}\n",
    "\n",
    "# Lista para armazenar os dados de cada pet\n",
    "dados_pets = []\n",
    "\n",
    "# Varrendo os pets de 1800 a 1900\n",
    "for pet_id in range(1800, 1901):\n",
    "    url_pet = f'https://petsrs.com.br/pet/{pet_id}'\n",
    "    detalhes_pet = extrair_detalhes_pet(url_pet)\n",
    "    detalhes_pet['URL'] = url_pet  # Adicionando a URL do pet aos detalhes\n",
    "    dados_pets.append(detalhes_pet)\n",
    "\n",
    "# Criando DataFrame com os dados dos pets\n",
    "df_pets = pd.DataFrame(dados_pets)\n",
    "\n",
    "print(df_pets)\n"
   ]
  }
 ],
 "metadata": {
  "kernelspec": {
   "display_name": "Python 3",
   "language": "python",
   "name": "python3"
  },
  "language_info": {
   "codemirror_mode": {
    "name": "ipython",
    "version": 3
   },
   "file_extension": ".py",
   "mimetype": "text/x-python",
   "name": "python",
   "nbconvert_exporter": "python",
   "pygments_lexer": "ipython3",
   "version": "3.10.0"
  }
 },
 "nbformat": 4,
 "nbformat_minor": 2
}
