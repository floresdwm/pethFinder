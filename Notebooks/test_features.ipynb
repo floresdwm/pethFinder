{
 "cells": [
  {
   "cell_type": "code",
   "execution_count": 4,
   "metadata": {},
   "outputs": [
    {
     "name": "stdout",
     "output_type": "stream",
     "text": [
      "Carregando modelo MobileNetV2...\n",
      "Modelo MobileNetV2 carregado com sucesso.\n",
      "pet_features carregadas com sucesso.\n",
      "pet_files carregadas com sucesso.\n"
     ]
    }
   ],
   "source": [
    "import os\n",
    "from PIL import Image\n",
    "import numpy as np\n",
    "from tensorflow.keras.applications import MobileNetV2\n",
    "from tensorflow.keras.applications.mobilenet_v2 import preprocess_input\n",
    "from tensorflow.keras.preprocessing.image import img_to_array\n",
    "from sklearn.metrics.pairwise import cosine_similarity\n",
    "import csv\n",
    "import chardet\n",
    "\n",
    "\n",
    "# Carregar o modelo MobileNetV2 pré-treinado\n",
    "print(\"Carregando modelo MobileNetV2...\")\n",
    "model_path = \"MobileNetV2_model.h5\"\n",
    "base_model = MobileNetV2(weights=model_path, include_top=False, input_shape=(224, 224, 3))\n",
    "print(\"Modelo MobileNetV2 carregado com sucesso.\")\n",
    "\n",
    "# Função para determinar a codificação do arquivo CSV\n",
    "def detect_encoding(file_path):\n",
    "    with open(file_path, 'rb') as f:\n",
    "        result = chardet.detect(f.read())\n",
    "        encoding = result['encoding']\n",
    "    return encoding\n",
    "\n",
    "# Carregar características dos pets a partir do arquivo CSV\n",
    "pet_features = np.loadtxt('pet_features.csv', delimiter=',')\n",
    "print(\"pet_features carregadas com sucesso.\")\n",
    "\n",
    "# Carregar informações dos arquivos dos pets a partir do arquivo CSV\n",
    "pet_files_path = 'pet_files.csv'\n",
    "csv_encoding = detect_encoding(pet_files_path)\n",
    "with open(pet_files_path, 'r', encoding=csv_encoding) as csvfile:\n",
    "    reader = csv.reader(csvfile)\n",
    "    next(reader)  # Ignorar o cabeçalho\n",
    "    pet_files = [row[0] for row in reader]\n",
    "\n",
    "print(\"pet_files carregadas com sucesso.\")\n",
    "\n",
    "\n",
    "# Função para encontrar o pet mais semelhante\n",
    "def find_most_similar_pet(query_features):\n",
    "    similarities = cosine_similarity([query_features], pet_features)\n",
    "    most_similar_indices = similarities.argsort()[0][-20:][::-1]\n",
    "    most_similar_files = [pet_files[i] for i in most_similar_indices]\n",
    "\n",
    "    # Formatar os nomes dos arquivos\n",
    "    formatted_most_similar_files = []\n",
    "    for file in most_similar_files:\n",
    "        # Extrair o número do ID do arquivo\n",
    "        #id_number = file.split('_id_')[1].split('_')[0]\n",
    "        id_number = file.split('.')[0]\n",
    "        # Formatar a URL com base no número do ID\n",
    "        url = f\"https://petsrs.com.br/pet/{id_number}\"\n",
    "        formatted_most_similar_files.append(url)\n",
    "\n",
    "    return formatted_most_similar_files"
   ]
  },
  {
   "cell_type": "code",
   "execution_count": 5,
   "metadata": {},
   "outputs": [
    {
     "name": "stdout",
     "output_type": "stream",
     "text": [
      "\u001b[1m1/1\u001b[0m \u001b[32m━━━━━━━━━━━━━━━━━━━━\u001b[0m\u001b[37m\u001b[0m \u001b[1m1s\u001b[0m 929ms/step\n",
      "Pet similares: ['https://petsrs.com.br/pet/1501', 'https://petsrs.com.br/pet/1510', 'https://petsrs.com.br/pet/3113', 'https://petsrs.com.br/pet/1511', 'https://petsrs.com.br/pet/1395', 'https://petsrs.com.br/pet/1502', 'https://petsrs.com.br/pet/286', 'https://petsrs.com.br/pet/226', 'https://petsrs.com.br/pet/3835', 'https://petsrs.com.br/pet/2715', 'https://petsrs.com.br/pet/1247', 'https://petsrs.com.br/pet/360', 'https://petsrs.com.br/pet/3797', 'https://petsrs.com.br/pet/2215', 'https://petsrs.com.br/pet/1920', 'https://petsrs.com.br/pet/2639', 'https://petsrs.com.br/pet/1336', 'https://petsrs.com.br/pet/1326', 'https://petsrs.com.br/pet/2899', 'https://petsrs.com.br/pet/3519']\n"
     ]
    }
   ],
   "source": [
    "# Testar com uma imagem de exemplo\n",
    "query_image_path = r'C:\\Users\\Pichau\\Downloads\\gato.jpg'\n",
    "img = Image.open(query_image_path).resize((224, 224))\n",
    "img = np.array(img)\n",
    "img = preprocess_input(img)\n",
    "query_features = base_model.predict(np.expand_dims(img, axis=0)).flatten()\n",
    "most_similar_pets = find_most_similar_pet(query_features)\n",
    "print(\"Pet similares:\", most_similar_pets)"
   ]
  }
 ],
 "metadata": {
  "kernelspec": {
   "display_name": "Python 3",
   "language": "python",
   "name": "python3"
  },
  "language_info": {
   "codemirror_mode": {
    "name": "ipython",
    "version": 3
   },
   "file_extension": ".py",
   "mimetype": "text/x-python",
   "name": "python",
   "nbconvert_exporter": "python",
   "pygments_lexer": "ipython3",
   "version": "3.10.0"
  }
 },
 "nbformat": 4,
 "nbformat_minor": 2
}
