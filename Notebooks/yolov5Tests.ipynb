{
 "cells": [
  {
   "cell_type": "code",
   "execution_count": 13,
   "metadata": {},
   "outputs": [
    {
     "name": "stderr",
     "output_type": "stream",
     "text": [
      "Using cache found in C:\\Users\\Pichau/.cache\\torch\\hub\\ultralytics_yolov5_master\n",
      "YOLOv5  2024-5-16 Python-3.10.0 torch-1.13.1+cpu CPU\n",
      "\n",
      "Fusing layers... \n",
      "YOLOv5s summary: 213 layers, 7225885 parameters, 0 gradients\n",
      "Adding AutoShape... \n"
     ]
    }
   ],
   "source": [
    "import os\n",
    "import cv2\n",
    "import torch\n",
    "\n",
    "# Função para carregar o modelo YOLOv5\n",
    "def load_yolo():\n",
    "    # Carregar modelo YOLOv5\n",
    "    model = torch.hub.load('ultralytics/yolov5', 'yolov5s')\n",
    "    model.eval()\n",
    "    return model\n",
    "\n",
    "# Função para detectar objetos usando YOLOv5\n",
    "def detect_objects(model, img):\n",
    "    results = model(img)\n",
    "\n",
    "    cropped_images = []\n",
    "    for result in results.xyxy[0]:\n",
    "        x1, y1, x2, y2, conf, cls = result\n",
    "        if int(cls) == 16 and conf > 0.6:  # 16 é a classe de animais\n",
    "            cropped_images.append(img[int(y1):int(y2), int(x1):int(x2)])\n",
    "        if int(cls) == 15 and conf > 0.6:  # 16 é a classe de animais\n",
    "            cropped_images.append(img[int(y1):int(y2), int(x1):int(x2)])\n",
    "\n",
    "    return cropped_images\n",
    "\n",
    "# Pasta de entrada e saída\n",
    "input_folder = \"imagens\"\n",
    "output_folder = \"yolo_boxes2\"\n",
    "\n",
    "# Carregar YOLOv5\n",
    "net = load_yolo()\n",
    "\n",
    "# Criar pasta de saída se não existir\n",
    "if not os.path.exists(output_folder):\n",
    "    os.makedirs(output_folder)\n",
    "\n",
    "# Processar cada imagem na pasta de entrada\n",
    "for file_name in os.listdir(input_folder):\n",
    "    if file_name.endswith(\".jpg\") or file_name.endswith(\".png\"):\n",
    "        # Carregar imagem\n",
    "        image_path = os.path.join(input_folder, file_name)\n",
    "        image = cv2.imread(image_path)\n",
    "\n",
    "        # Detectar e recortar animais na imagem\n",
    "        cropped_images = detect_objects(net, image)\n",
    "\n",
    "        # Salvar imagens recortadas na pasta de saída\n",
    "        if cropped_images:\n",
    "            for i, cropped_image in enumerate(cropped_images):\n",
    "                output_path = os.path.join(output_folder, f\"{os.path.splitext(file_name)[0]}_{i+1}.jpg\")\n",
    "                cv2.imwrite(output_path, cropped_image)\n"
   ]
  }
 ],
 "metadata": {
  "kernelspec": {
   "display_name": "Python 3",
   "language": "python",
   "name": "python3"
  },
  "language_info": {
   "codemirror_mode": {
    "name": "ipython",
    "version": 3
   },
   "file_extension": ".py",
   "mimetype": "text/x-python",
   "name": "python",
   "nbconvert_exporter": "python",
   "pygments_lexer": "ipython3",
   "version": "3.10.0"
  }
 },
 "nbformat": 4,
 "nbformat_minor": 2
}
